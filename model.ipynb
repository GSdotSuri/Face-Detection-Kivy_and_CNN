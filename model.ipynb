{
  "nbformat": 4,
  "nbformat_minor": 0,
  "metadata": {
    "language_info": {
      "codemirror_mode": {
        "name": "ipython",
        "version": 3
      },
      "file_extension": ".py",
      "mimetype": "text/x-python",
      "name": "python",
      "nbconvert_exporter": "python",
      "pygments_lexer": "ipython3",
      "version": "3.8.6"
    },
    "orig_nbformat": 2,
    "kernelspec": {
      "name": "python386jvsc74a57bd0e158a0b7036a9485c36b6e101406264e1648273d21dcb87413c864dfff843404",
      "display_name": "Python 3.8.6 64-bit ('CodeForCause-4H5SLsgN': pipenv)"
    },
    "colab": {
      "name": "model.ipynb",
      "provenance": [],
      "collapsed_sections": []
    }
  },
  "cells": [
    {
      "cell_type": "code",
      "metadata": {
        "id": "p5TzvrBa7YlW"
      },
      "source": [
        "import keras\n",
        "from tensorflow.keras.models import Model\n",
        "from tensorflow.keras.layers import Input, Reshape, Dense, Conv2D, MaxPooling2D, Flatten, Dropout\n",
        "from tensorflow.keras.losses import categorical_crossentropy\n",
        "import numpy as np\n",
        "import pandas as pd\n",
        "from sklearn.preprocessing import OneHotEncoder\n",
        "from sklearn.preprocessing import LabelEncoder"
      ],
      "execution_count": null,
      "outputs": []
    },
    {
      "cell_type": "code",
      "metadata": {
        "id": "LnZI7cR27Yla",
        "colab": {
          "base_uri": "https://localhost:8080/"
        },
        "outputId": "ae7f603b-8403-45af-d71c-cc0f0cf4c5c0"
      },
      "source": [
        "data = np.load('face_data.npy')\n",
        "print(data[:5])\n",
        "np.random.shuffle(data)\n",
        "print(data[:5])\n",
        "X = data[:, 1:]\n",
        "Y = data[:,0]"
      ],
      "execution_count": null,
      "outputs": [
        {
          "output_type": "stream",
          "text": [
            "[['kartik' '192' '192' ... '183' '183' '183']\n",
            " ['kartik' '189' '189' ... '189' '189' '189']\n",
            " ['kartik' '188' '188' ... '76' '74' '73']\n",
            " ['kartik' '46' '46' ... '175' '175' '175']\n",
            " ['kartik' '188' '188' ... '63' '65' '66']]\n",
            "[['gurprasad' '196' '196' ... '50' '49' '49']\n",
            " ['gurprasad' '204' '204' ... '49' '50' '50']\n",
            " ['gurprasad' '202' '202' ... '58' '61' '62']\n",
            " ['gurprasad' '206' '206' ... '50' '50' '50']\n",
            " ['kartik' '188' '188' ... '63' '65' '66']]\n"
          ],
          "name": "stdout"
        }
      ]
    },
    {
      "cell_type": "code",
      "metadata": {
        "id": "qbWexGoy7Ylb"
      },
      "source": [
        "X = X.reshape(X.shape[0], 300, 300)"
      ],
      "execution_count": null,
      "outputs": []
    },
    {
      "cell_type": "code",
      "metadata": {
        "colab": {
          "base_uri": "https://localhost:8080/"
        },
        "id": "x4zrKwdw7Ylb",
        "outputId": "2ca04647-6b40-4fcd-9057-cfe5d3fe5f3d"
      },
      "source": [
        "X.shape"
      ],
      "execution_count": null,
      "outputs": [
        {
          "output_type": "execute_result",
          "data": {
            "text/plain": [
              "(20, 300, 300)"
            ]
          },
          "metadata": {
            "tags": []
          },
          "execution_count": 36
        }
      ]
    },
    {
      "cell_type": "code",
      "metadata": {
        "id": "-8Hch14A7Yld",
        "colab": {
          "base_uri": "https://localhost:8080/"
        },
        "outputId": "78d6bd13-51de-4738-afcb-ce01dfc94056"
      },
      "source": [
        "label_encoder = LabelEncoder()\n",
        "integer_encoded = label_encoder.fit_transform(Y)\n",
        "print(integer_encoded)\n",
        "# binary encode\n",
        "onehot_encoder = OneHotEncoder(sparse=False)\n",
        "integer_encoded = integer_encoded.reshape(len(integer_encoded), 1)\n",
        "y = onehot_encoder.fit_transform(integer_encoded)\n",
        "print(y)"
      ],
      "execution_count": null,
      "outputs": [
        {
          "output_type": "stream",
          "text": [
            "[0 0 0 0 1 1 1 0 0 0 1 0 1 1 1 0 0 1 1 1]\n",
            "[[1. 0.]\n",
            " [1. 0.]\n",
            " [1. 0.]\n",
            " [1. 0.]\n",
            " [0. 1.]\n",
            " [0. 1.]\n",
            " [0. 1.]\n",
            " [1. 0.]\n",
            " [1. 0.]\n",
            " [1. 0.]\n",
            " [0. 1.]\n",
            " [1. 0.]\n",
            " [0. 1.]\n",
            " [0. 1.]\n",
            " [0. 1.]\n",
            " [1. 0.]\n",
            " [1. 0.]\n",
            " [0. 1.]\n",
            " [0. 1.]\n",
            " [0. 1.]]\n"
          ],
          "name": "stdout"
        }
      ]
    },
    {
      "cell_type": "code",
      "metadata": {
        "colab": {
          "base_uri": "https://localhost:8080/"
        },
        "id": "eTKf_OZMqLny",
        "outputId": "bf4833df-66b2-47e1-e422-f52e3aa24d70"
      },
      "source": [
        "y.shape"
      ],
      "execution_count": null,
      "outputs": [
        {
          "output_type": "execute_result",
          "data": {
            "text/plain": [
              "(20, 2)"
            ]
          },
          "metadata": {
            "tags": []
          },
          "execution_count": 38
        }
      ]
    },
    {
      "cell_type": "code",
      "metadata": {
        "id": "zGOxWRCB7Yld"
      },
      "source": [
        "X, y = X.astype(np.uint8), y.astype(np.uint8)"
      ],
      "execution_count": null,
      "outputs": []
    },
    {
      "cell_type": "code",
      "metadata": {
        "id": "q5x4PRhd7Yle"
      },
      "source": [
        "in_layer = Input(shape = (300,300))\n",
        "reshape = Reshape((300, 300, 1))(in_layer)\n",
        "c1 = Conv2D(32, (2,2))(reshape)\n",
        "p1 = MaxPooling2D((2, 2))(c1)\n",
        "c2 = Conv2D(64, (2,2))(p1)\n",
        "p2 = MaxPooling2D((2, 2))(c2)\n",
        "c3 = Conv2D(128, (2,2))(p2)\n",
        "p3 = MaxPooling2D((2, 2))(c3)\n",
        "drp1 = Dropout(0.2)(p3)\n",
        "flat = Flatten()(drp1)\n",
        "d1 = Dense(1024, activation=\"tanh\")(flat)\n",
        "d2 = Dense(512, activation=\"tanh\")(d1)\n",
        "drp2 = Dropout(0.5)(d2)\n",
        "d3 = Dense(300, activation=\"tanh\")(drp2)\n",
        "drp3 = Dropout(0.5)(d3)\n",
        "out = Dense(2, activation=\"softmax\")(drp3)"
      ],
      "execution_count": null,
      "outputs": []
    },
    {
      "cell_type": "code",
      "metadata": {
        "id": "Q04IfkXY7Ylf"
      },
      "source": [
        "model = Model(in_layer, out)"
      ],
      "execution_count": null,
      "outputs": []
    },
    {
      "cell_type": "code",
      "metadata": {
        "colab": {
          "base_uri": "https://localhost:8080/"
        },
        "id": "tnAzghab7Ylf",
        "outputId": "e98ea587-9551-45bf-95a3-b5867d595d42"
      },
      "source": [
        "model.summary()"
      ],
      "execution_count": null,
      "outputs": [
        {
          "output_type": "stream",
          "text": [
            "Model: \"model_2\"\n",
            "_________________________________________________________________\n",
            "Layer (type)                 Output Shape              Param #   \n",
            "=================================================================\n",
            "input_4 (InputLayer)         [(None, 300, 300, 1)]     0         \n",
            "_________________________________________________________________\n",
            "conv2d_7 (Conv2D)            (None, 299, 299, 32)      160       \n",
            "_________________________________________________________________\n",
            "max_pooling2d_6 (MaxPooling2 (None, 149, 149, 32)      0         \n",
            "_________________________________________________________________\n",
            "conv2d_8 (Conv2D)            (None, 148, 148, 64)      8256      \n",
            "_________________________________________________________________\n",
            "max_pooling2d_7 (MaxPooling2 (None, 74, 74, 64)        0         \n",
            "_________________________________________________________________\n",
            "conv2d_9 (Conv2D)            (None, 73, 73, 128)       32896     \n",
            "_________________________________________________________________\n",
            "max_pooling2d_8 (MaxPooling2 (None, 36, 36, 128)       0         \n",
            "_________________________________________________________________\n",
            "dropout_6 (Dropout)          (None, 36, 36, 128)       0         \n",
            "_________________________________________________________________\n",
            "flatten_2 (Flatten)          (None, 165888)            0         \n",
            "_________________________________________________________________\n",
            "dense_8 (Dense)              (None, 1024)              169870336 \n",
            "_________________________________________________________________\n",
            "dense_9 (Dense)              (None, 512)               524800    \n",
            "_________________________________________________________________\n",
            "dropout_7 (Dropout)          (None, 512)               0         \n",
            "_________________________________________________________________\n",
            "dense_10 (Dense)             (None, 300)               153900    \n",
            "_________________________________________________________________\n",
            "dropout_8 (Dropout)          (None, 300)               0         \n",
            "_________________________________________________________________\n",
            "dense_11 (Dense)             (None, 2)                 602       \n",
            "=================================================================\n",
            "Total params: 170,590,950\n",
            "Trainable params: 170,590,950\n",
            "Non-trainable params: 0\n",
            "_________________________________________________________________\n"
          ],
          "name": "stdout"
        }
      ]
    },
    {
      "cell_type": "code",
      "metadata": {
        "id": "aC66h8C47Ylg"
      },
      "source": [
        "model.compile(optimizer=\"adam\", loss=\"categorical_crossentropy\", metrics=[\"accuracy\"])"
      ],
      "execution_count": null,
      "outputs": []
    },
    {
      "cell_type": "code",
      "metadata": {
        "id": "6YTNc8X47Ylg"
      },
      "source": [
        "model.fit(X, y, epochs=10, steps_per_epoch=10)"
      ],
      "execution_count": null,
      "outputs": []
    },
    {
      "cell_type": "code",
      "metadata": {
        "id": "NpNK3TwLFjH3"
      },
      "source": [
        "from google.colab import drive\n",
        "drive.mount('/content/gdrive')\n"
      ],
      "execution_count": null,
      "outputs": []
    },
    {
      "cell_type": "code",
      "metadata": {
        "id": "YjHvIBoBHBLT"
      },
      "source": [
        "path = \"/content/gdrive/My Drive/facemodel.hdf5\"\n",
        "model.save(path, save_format=\"hdf5\")"
      ],
      "execution_count": null,
      "outputs": []
    }
  ]
}